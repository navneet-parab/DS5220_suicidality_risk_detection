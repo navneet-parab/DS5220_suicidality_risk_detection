{
 "cells": [
  {
   "cell_type": "markdown",
   "id": "3956d5bc",
   "metadata": {},
   "source": [
    "### Import libraries"
   ]
  },
  {
   "cell_type": "code",
   "execution_count": 14,
   "id": "b24a4528",
   "metadata": {},
   "outputs": [
    {
     "name": "stderr",
     "output_type": "stream",
     "text": [
      "[nltk_data] Downloading package omw-1.4 to\n",
      "[nltk_data]     /Users/navneetparab/nltk_data...\n",
      "[nltk_data]   Package omw-1.4 is already up-to-date!\n"
     ]
    }
   ],
   "source": [
    "import numpy as np\n",
    "import pandas as pd\n",
    "import matplotlib.pyplot as plt\n",
    "\n",
    "import os\n",
    "import email\n",
    "import string\n",
    "import nltk\n",
    "nltk.download('omw-1.4')\n",
    "from nltk import wordpunct_tokenize\n",
    "from nltk.corpus import stopwords, words\n",
    "from nltk.tokenize import word_tokenize \n",
    "from nltk.stem import PorterStemmer, WordNetLemmatizer\n",
    "from bs4 import BeautifulSoup\n",
    "\n",
    "from sklearn.pipeline import Pipeline\n",
    "from sklearn.preprocessing import LabelEncoder\n",
    "from sklearn.feature_extraction.text import TfidfVectorizer, CountVectorizer\n",
    "from sklearn.model_selection import train_test_split,GridSearchCV, cross_val_score\n",
    "from sklearn.model_selection import StratifiedKFold, StratifiedShuffleSplit\n",
    "from sklearn.naive_bayes import MultinomialNB\n",
    "from sklearn.neighbors import KNeighborsClassifier\n",
    "from sklearn.linear_model import LogisticRegression\n",
    "from sklearn.svm import SVC, LinearSVC\n",
    "from sklearn import datasets\n",
    "from sklearn.metrics import confusion_matrix, classification_report, ConfusionMatrixDisplay, precision_recall_fscore_support as p_r_f1\n",
    "from sklearn.metrics import accuracy_score, precision_score, recall_score, f1_score\n",
    "\n",
    "import re\n",
    "\n",
    "#import warnings\n",
    "#warnings.filterwarnings(\"ignore\")"
   ]
  },
  {
   "cell_type": "markdown",
   "id": "a260b05f",
   "metadata": {},
   "source": [
    "### Load the dataset"
   ]
  },
  {
   "cell_type": "code",
   "execution_count": null,
   "id": "5d0d7161",
   "metadata": {},
   "outputs": [],
   "source": [
    "df = pd.read_csv('Suicide_Detection.csv')"
   ]
  },
  {
   "cell_type": "code",
   "execution_count": null,
   "id": "1bec720f",
   "metadata": {
    "scrolled": false
   },
   "outputs": [],
   "source": [
    "df.info()"
   ]
  },
  {
   "cell_type": "code",
   "execution_count": 2,
   "id": "5e16b111",
   "metadata": {},
   "outputs": [],
   "source": [
    "def remove_punctuations(text):\n",
    "    for char in string.punctuation:\n",
    "        text = text.replace(char, ' ')\n",
    "    return text"
   ]
  },
  {
   "cell_type": "code",
   "execution_count": 3,
   "id": "798ee90d",
   "metadata": {},
   "outputs": [],
   "source": [
    "def data_preprocessing(dataframe):\n",
    "    # Dropping redundant columns\n",
    "    dataframe.drop(columns=['Unnamed: 0'], inplace=True)\n",
    "    \n",
    "    # Keeping only latin alphabets and numbers\n",
    "    dataframe['text'].replace({r'[^\\x00-\\x7F]+':''}, regex=True, inplace=True)\n",
    "    \n",
    "    # Remove punctuation\n",
    "    dataframe['text'] = dataframe['text'].apply(remove_punctuations)\n",
    "    \n",
    "    # Remove stopwords\n",
    "    stop = stopwords.words('english')\n",
    "    extra_stop = stop + ['ive', 'im', 'youre', 'youve', 'youll', 'youd', 'shes', 'arent', 'couldnt', 'didnt', 'doesnt', 'hadnt', 'hasnt', 'havent', 'isnt', 'shouldnt', 'wasnt', 'werent', 'wont', 'wouldnt', 'http', 'filler', 'pog', 'auto','webp', 'redd', 'http', 'https', 'preview', 'amp']\n",
    "    \n",
    "    dataframe['text'] = dataframe['text'].apply(lambda x: ' '.join([word for word in x.split() if word not in extra_stop]))\n",
    "    \n",
    "    # Remove numeric strings\n",
    "    dataframe['text'] = dataframe['text'].str.replace('\\d+', '')\n",
    "    \n",
    "    #Tokenize\n",
    "    dataframe['text'] = dataframe.apply(lambda row: word_tokenize(row['text']), axis=1)\n",
    "    \n",
    "    # Remove non English words\n",
    "    eng_words = set(words.words())\n",
    "    dataframe['text'] = dataframe['text'].apply(lambda row: [word for word in row if word in eng_words or not word.isalpha()])\n",
    "    \n",
    "    # Lemmatization\n",
    "    lemmatizer = WordNetLemmatizer()\n",
    "    dataframe['text'] = dataframe['text'].apply(lambda row : [lemmatizer.lemmatize(i) for i in row])\n",
    "    \n",
    "    # Convert list to string\n",
    "    dataframe['text'] = [','.join(map(str, l)) for l in dataframe['text']]\n",
    "    \n",
    "    # Rename columns\n",
    "    dataframe.rename(columns={'text': 'body'}, inplace=True)\n",
    "    dataframe.rename(columns={'class': 'Label'}, inplace=True)\n",
    "    \n",
    "    return dataframe   "
   ]
  },
  {
   "cell_type": "markdown",
   "id": "63b7a8f6",
   "metadata": {},
   "source": [
    "### Cleaning data and saving as a csv file"
   ]
  },
  {
   "cell_type": "code",
   "execution_count": null,
   "id": "ad15120f",
   "metadata": {
    "scrolled": false
   },
   "outputs": [],
   "source": [
    "data = data_preprocessing(df)\n",
    "data.to_csv('clean_dataset.csv')"
   ]
  },
  {
   "cell_type": "markdown",
   "id": "e5ceacc0",
   "metadata": {},
   "source": [
    "### Reading from cleaned data csv"
   ]
  },
  {
   "cell_type": "code",
   "execution_count": 2,
   "id": "bc94fa56",
   "metadata": {},
   "outputs": [],
   "source": [
    "data = pd.read_csv('clean_dataset.csv')\n",
    "data.drop(columns=['Unnamed: 0'], inplace=True)"
   ]
  },
  {
   "cell_type": "markdown",
   "id": "6bd3c0fd",
   "metadata": {},
   "source": [
    "### Creating two datasets: Entire and Sampled"
   ]
  },
  {
   "cell_type": "code",
   "execution_count": 3,
   "id": "f1c1997f",
   "metadata": {},
   "outputs": [],
   "source": [
    "sampled_data=data.sample(frac=0.2,random_state=222)\n",
    "sampled_data.reset_index(inplace=True)\n",
    "sampled_data.drop(columns = ['index'], inplace=True)"
   ]
  },
  {
   "cell_type": "markdown",
   "id": "b7dd7937",
   "metadata": {},
   "source": [
    "#### Targets for Entire and sampled datasets"
   ]
  },
  {
   "cell_type": "code",
   "execution_count": 4,
   "id": "b481f64c",
   "metadata": {},
   "outputs": [],
   "source": [
    "targets = data['Label'].values\n",
    "sampled_targets = sampled_data['Label'].values"
   ]
  },
  {
   "cell_type": "markdown",
   "id": "841d7796",
   "metadata": {},
   "source": [
    "# Sampled Data Training and Testing Section"
   ]
  },
  {
   "cell_type": "markdown",
   "id": "07077b38",
   "metadata": {},
   "source": [
    "## Using Sampled data for hyperparameter selection"
   ]
  },
  {
   "cell_type": "markdown",
   "id": "602b8942",
   "metadata": {},
   "source": [
    "### Count Vectorizer"
   ]
  },
  {
   "cell_type": "code",
   "execution_count": 5,
   "id": "0340ec88",
   "metadata": {},
   "outputs": [],
   "source": [
    "# Unigrams\n",
    "samp_count_vectorizer_1 = CountVectorizer(ngram_range=(1,1))\n",
    "samp_count_matrix_1 = samp_count_vectorizer_1.fit_transform(sampled_data['body'].values.astype('U'))\n",
    "\n",
    "# Bigrams\n",
    "samp_count_vectorizer_2 = CountVectorizer(ngram_range=(1,2))\n",
    "samp_count_matrix_2 = samp_count_vectorizer_2.fit_transform(sampled_data['body'].values.astype('U'))"
   ]
  },
  {
   "cell_type": "markdown",
   "id": "5f4dc129",
   "metadata": {},
   "source": [
    "### TF-IDF"
   ]
  },
  {
   "cell_type": "code",
   "execution_count": 6,
   "id": "f5214b1f",
   "metadata": {},
   "outputs": [],
   "source": [
    "# Unigrams\n",
    "samp_tfidf_vectorizer_1 = TfidfVectorizer(ngram_range=(1,1))\n",
    "samp_tfidf_matrix_1 = samp_tfidf_vectorizer_1.fit_transform(sampled_data['body'].values.astype('U'))\n",
    "\n",
    "# Bigrams\n",
    "samp_tfidf_vectorizer_2 = TfidfVectorizer(ngram_range=(1,2))\n",
    "samp_tfidf_matrix_2 = samp_tfidf_vectorizer_2.fit_transform(sampled_data['body'].values.astype('U'))"
   ]
  },
  {
   "cell_type": "markdown",
   "id": "dcf49a1d",
   "metadata": {},
   "source": [
    "## Grid Search Cross Validation"
   ]
  },
  {
   "cell_type": "code",
   "execution_count": 5,
   "id": "634ff8d0",
   "metadata": {},
   "outputs": [],
   "source": [
    "# Train and evaluate the Logistic Regression classifier\n",
    "def train_lr(X_train, y_train, X_test, y_test):\n",
    "    model = LogisticRegression(solver='saga', penalty='l1', max_iter=1000)\n",
    "    params = {'C': [0.1, 1, 5]}\n",
    "    clf = GridSearchCV(model, params, cv=5, n_jobs=-1)\n",
    "    clf.fit(X_train, y_train)\n",
    "    y_pred = clf.predict(X_test)\n",
    "    print('\\nLogistic Regression Results:')\n",
    "    print('Best Parameters:', clf.best_params_)\n",
    "    print('\\nAccuracy:', accuracy_score(y_test, y_pred))\n",
    "    print('Precision:', precision_score(y_test, y_pred, pos_label='suicide'))\n",
    "    print('Recall:', recall_score(y_test, y_pred, pos_label='suicide'))\n",
    "    print('F1 Score:', f1_score(y_test, y_pred, pos_label='suicide'))"
   ]
  },
  {
   "cell_type": "code",
   "execution_count": 6,
   "id": "a7755999",
   "metadata": {},
   "outputs": [],
   "source": [
    "# Train and evaluate the Support Vector Machine classifier\n",
    "def train_svm(X_train, y_train, X_test, y_test, dual_value):\n",
    "    model = LinearSVC(dual=dual_value)\n",
    "    params = {'C': [0.1, 0.5, 1, 5]}\n",
    "    clf = GridSearchCV(model, params, cv=5)\n",
    "    clf.fit(X_train, y_train)\n",
    "    y_pred = clf.predict(X_test)\n",
    "    print('\\nSupport Vector Machine Results:')\n",
    "    print('Best Parameters:', clf.best_params_)\n",
    "    print('\\nAccuracy:', accuracy_score(y_test, y_pred))\n",
    "    print('Precision:', precision_score(y_test, y_pred, pos_label='suicide'))\n",
    "    print('Recall:', recall_score(y_test, y_pred, pos_label='suicide'))\n",
    "    print('F1 Score:', f1_score(y_test, y_pred, pos_label='suicide'))      "
   ]
  },
  {
   "cell_type": "code",
   "execution_count": 7,
   "id": "d6564e7e",
   "metadata": {},
   "outputs": [],
   "source": [
    "# Train and evaluate the Naïve Bayes classifier    \n",
    "def train_naive_bayes(X_train, y_train, X_test, y_test):\n",
    "    model = MultinomialNB()\n",
    "    params = {'alpha': [0.001, 0.01, 0.1, 1]}\n",
    "    clf = GridSearchCV(model, params, cv=5)\n",
    "    clf.fit(X_train, y_train)\n",
    "    y_pred = clf.predict(X_test)\n",
    "    print('\\nNaive Bayes Results:')\n",
    "    print('Best Parameters:', clf.best_params_)\n",
    "    print('\\nAccuracy:', accuracy_score(y_test, y_pred))\n",
    "    print('Precision:', precision_score(y_test, y_pred, pos_label='suicide'))\n",
    "    print('Recall:', recall_score(y_test, y_pred, pos_label='suicide'))\n",
    "    print('F1 Score:', f1_score(y_test, y_pred, pos_label='suicide'))"
   ]
  },
  {
   "cell_type": "code",
   "execution_count": 8,
   "id": "449cd5e4",
   "metadata": {},
   "outputs": [],
   "source": [
    "# Train and evaluate the K-Nearest Neighbors classifier\n",
    "def train_knn(X_train, y_train, X_test, y_test):\n",
    "    model = KNeighborsClassifier()\n",
    "    params = {'n_neighbors': [3, 5, 10]}\n",
    "    clf = GridSearchCV(model, params, cv=5)\n",
    "    clf.fit(X_train, y_train)\n",
    "    y_pred = clf.predict(X_test)\n",
    "    print('\\nK-Nearest Neighbors Results:')\n",
    "    print('Best Parameters:', clf.best_params_)\n",
    "    print('\\nAccuracy:', accuracy_score(y_test, y_pred))\n",
    "    print('Precision:', precision_score(y_test, y_pred, pos_label='suicide'))\n",
    "    print('Recall:', recall_score(y_test, y_pred, pos_label='suicide'))\n",
    "    print('F1 Score:', f1_score(y_test, y_pred, pos_label='suicide'))"
   ]
  },
  {
   "cell_type": "markdown",
   "id": "e53a01bb",
   "metadata": {},
   "source": [
    "# Count Unigrams"
   ]
  },
  {
   "cell_type": "code",
   "execution_count": 11,
   "id": "2fa13149",
   "metadata": {},
   "outputs": [],
   "source": [
    "X_train, X_test, y_train, y_test = train_test_split(samp_count_matrix_1, sampled_targets, test_size=0.2, random_state=22)"
   ]
  },
  {
   "cell_type": "code",
   "execution_count": null,
   "id": "31152c1f",
   "metadata": {},
   "outputs": [],
   "source": [
    "train_lr(X_train,y_train,X_test,y_test) "
   ]
  },
  {
   "cell_type": "code",
   "execution_count": null,
   "id": "0e92a32d",
   "metadata": {},
   "outputs": [],
   "source": [
    "train_svm(X_train,y_train,X_test,y_test, dual_value=False) # n_samples > n_features"
   ]
  },
  {
   "cell_type": "code",
   "execution_count": null,
   "id": "62fcd292",
   "metadata": {},
   "outputs": [],
   "source": [
    "train_naive_bayes(X_train,y_train,X_test,y_test)"
   ]
  },
  {
   "cell_type": "code",
   "execution_count": null,
   "id": "61ac9c78",
   "metadata": {},
   "outputs": [],
   "source": [
    "train_knn(X_train,y_train,X_test,y_test)"
   ]
  },
  {
   "cell_type": "markdown",
   "id": "99d27dba",
   "metadata": {},
   "source": [
    "# Count Bigrams"
   ]
  },
  {
   "cell_type": "code",
   "execution_count": 11,
   "id": "15fea926",
   "metadata": {},
   "outputs": [],
   "source": [
    "X_train, X_test, y_train, y_test = train_test_split(samp_count_matrix_2, sampled_targets, test_size=0.2, random_state=22)"
   ]
  },
  {
   "cell_type": "code",
   "execution_count": null,
   "id": "cf52ba08",
   "metadata": {},
   "outputs": [],
   "source": [
    "train_lr(X_train,y_train,X_test,y_test)"
   ]
  },
  {
   "cell_type": "code",
   "execution_count": null,
   "id": "25bc92aa",
   "metadata": {},
   "outputs": [],
   "source": [
    "train_svm(X_train,y_train,X_test,y_test, dual_value=True) # n_samples < n_features"
   ]
  },
  {
   "cell_type": "code",
   "execution_count": null,
   "id": "2e5ed23a",
   "metadata": {},
   "outputs": [],
   "source": [
    "train_naive_bayes(X_train,y_train,X_test,y_test)"
   ]
  },
  {
   "cell_type": "code",
   "execution_count": null,
   "id": "e370e205",
   "metadata": {},
   "outputs": [],
   "source": [
    "train_knn(X_train,y_train,X_test,y_test)"
   ]
  },
  {
   "cell_type": "markdown",
   "id": "e6b91b93",
   "metadata": {},
   "source": [
    "# TF-IDF Unigrams"
   ]
  },
  {
   "cell_type": "code",
   "execution_count": 11,
   "id": "e4fbef1a",
   "metadata": {},
   "outputs": [],
   "source": [
    "X_train, X_test, y_train, y_test = train_test_split(samp_tfidf_matrix_1, sampled_targets, test_size=0.2, random_state=22)"
   ]
  },
  {
   "cell_type": "code",
   "execution_count": null,
   "id": "7ce9c2cc",
   "metadata": {},
   "outputs": [],
   "source": [
    "train_lr(X_train,y_train,X_test,y_test)"
   ]
  },
  {
   "cell_type": "code",
   "execution_count": null,
   "id": "5d057f33",
   "metadata": {},
   "outputs": [],
   "source": [
    "train_svm(X_train,y_train,X_test,y_test, dual_value=False) # n_samples > n_features"
   ]
  },
  {
   "cell_type": "code",
   "execution_count": null,
   "id": "7ee3132d",
   "metadata": {},
   "outputs": [],
   "source": [
    "train_naive_bayes(X_train,y_train,X_test,y_test)"
   ]
  },
  {
   "cell_type": "code",
   "execution_count": null,
   "id": "f58d9133",
   "metadata": {},
   "outputs": [],
   "source": [
    "train_knn(X_train,y_train,X_test,y_test)"
   ]
  },
  {
   "cell_type": "markdown",
   "id": "890a28ba",
   "metadata": {},
   "source": [
    "# TF-IDF Bigrams"
   ]
  },
  {
   "cell_type": "code",
   "execution_count": 11,
   "id": "fad11489",
   "metadata": {},
   "outputs": [],
   "source": [
    "X_train, X_test, y_train, y_test = train_test_split(samp_tfidf_matrix_2, sampled_targets, test_size=0.2, random_state=22)"
   ]
  },
  {
   "cell_type": "code",
   "execution_count": null,
   "id": "8dcfeb10",
   "metadata": {},
   "outputs": [],
   "source": [
    "train_lr(X_train,y_train,X_test,y_test)"
   ]
  },
  {
   "cell_type": "code",
   "execution_count": null,
   "id": "487a13de",
   "metadata": {},
   "outputs": [],
   "source": [
    "train_svm(X_train,y_train,X_test,y_test, dual_value=True) # n_samples < n_features"
   ]
  },
  {
   "cell_type": "code",
   "execution_count": null,
   "id": "f3e71e5b",
   "metadata": {},
   "outputs": [],
   "source": [
    "train_naive_bayes(X_train,y_train,X_test,y_test)"
   ]
  },
  {
   "cell_type": "code",
   "execution_count": null,
   "id": "480583f9",
   "metadata": {},
   "outputs": [],
   "source": [
    "train_knn(X_train,y_train,X_test,y_test)"
   ]
  },
  {
   "cell_type": "markdown",
   "id": "cc9bd777",
   "metadata": {},
   "source": [
    "# After hyperparameter selection\n",
    "\n",
    "We reject KNN algorithm and the Count Vectorization method"
   ]
  },
  {
   "cell_type": "markdown",
   "id": "5c59a73c",
   "metadata": {},
   "source": [
    "## Unigrams "
   ]
  },
  {
   "cell_type": "code",
   "execution_count": 26,
   "id": "17b956d1",
   "metadata": {},
   "outputs": [],
   "source": [
    "X_train, X_test, y_train, y_test = train_test_split(samp_tfidf_matrix_1, sampled_targets, test_size=0.2, random_state=22)"
   ]
  },
  {
   "cell_type": "markdown",
   "id": "9741e430",
   "metadata": {},
   "source": [
    "### Logistic Regression (C = 1)"
   ]
  },
  {
   "cell_type": "code",
   "execution_count": 27,
   "id": "eaf200d7",
   "metadata": {},
   "outputs": [],
   "source": [
    "lr = LogisticRegression(C=1, penalty='l1', solver='saga')\n",
    "lr.fit(X_train, y_train)\n",
    "lr_pred_train = lr.predict(X_train)\n",
    "lr_pred_test = lr.predict(X_test)\n",
    "lr_train_report = classification_report(y_train, lr_pred_train)\n",
    "lr_test_report = classification_report(y_test, lr_pred_test)"
   ]
  },
  {
   "cell_type": "code",
   "execution_count": 28,
   "id": "8c9d41a6",
   "metadata": {},
   "outputs": [
    {
     "name": "stdout",
     "output_type": "stream",
     "text": [
      "For Sampled Dataset (TFIDF - unigrams)\n",
      "Logistic Regression confusion matrix (training set):\n",
      " [[17353  1167]\n",
      " [ 1768 16844]]\n",
      "Logistic Regression classification report (training set):\n",
      "               precision    recall  f1-score   support\n",
      "\n",
      " non-suicide       0.91      0.94      0.92     18520\n",
      "     suicide       0.94      0.91      0.92     18612\n",
      "\n",
      "    accuracy                           0.92     37132\n",
      "   macro avg       0.92      0.92      0.92     37132\n",
      "weighted avg       0.92      0.92      0.92     37132\n",
      "\n",
      "Logistic Regression confusion matrix (test set):\n",
      " [[4343  313]\n",
      " [ 521 4106]]\n",
      "Logistic Regression classification report (test set):\n",
      "               precision    recall  f1-score   support\n",
      "\n",
      " non-suicide       0.89      0.93      0.91      4656\n",
      "     suicide       0.93      0.89      0.91      4627\n",
      "\n",
      "    accuracy                           0.91      9283\n",
      "   macro avg       0.91      0.91      0.91      9283\n",
      "weighted avg       0.91      0.91      0.91      9283\n",
      "\n"
     ]
    }
   ],
   "source": [
    "# print the confusion matrix and classification report for each classifier on the training and test sets\n",
    "print('For Sampled Dataset (TFIDF - unigrams)')\n",
    "print('Logistic Regression confusion matrix (training set):\\n', confusion_matrix(y_train, lr_pred_train))\n",
    "print('Logistic Regression classification report (training set):\\n', lr_train_report)\n",
    "print('Logistic Regression confusion matrix (test set):\\n', confusion_matrix(y_test, lr_pred_test))\n",
    "print('Logistic Regression classification report (test set):\\n', lr_test_report)"
   ]
  },
  {
   "cell_type": "markdown",
   "id": "e149a84d",
   "metadata": {},
   "source": [
    "### Support Vector Machines (C = 0.5)"
   ]
  },
  {
   "cell_type": "code",
   "execution_count": 17,
   "id": "8f60fa89",
   "metadata": {},
   "outputs": [],
   "source": [
    "SVM = LinearSVC(C=0.5, dual=False) #n_samples > n_features\n",
    "SVM.fit(X_train, y_train)\n",
    "svm_pred_train = SVM.predict(X_train)\n",
    "svm_pred_test = SVM.predict(X_test)\n",
    "svm_train_report = classification_report(y_train, svm_pred_train)\n",
    "svm_test_report = classification_report(y_test, svm_pred_test)"
   ]
  },
  {
   "cell_type": "code",
   "execution_count": 18,
   "id": "a68ccbce",
   "metadata": {},
   "outputs": [
    {
     "name": "stdout",
     "output_type": "stream",
     "text": [
      "For Sampled Dataset (TFIDF - unigrams)\n",
      "Support Vector Machine confusion matrix (training set):\n",
      " [[17659   861]\n",
      " [ 1149 17463]]\n",
      "Support Vector Machine classification report (training set):\n",
      "               precision    recall  f1-score   support\n",
      "\n",
      " non-suicide       0.94      0.95      0.95     18520\n",
      "     suicide       0.95      0.94      0.95     18612\n",
      "\n",
      "    accuracy                           0.95     37132\n",
      "   macro avg       0.95      0.95      0.95     37132\n",
      "weighted avg       0.95      0.95      0.95     37132\n",
      "\n",
      "Support Vector Machine confusion matrix (test set):\n",
      " [[4343  313]\n",
      " [ 513 4114]]\n",
      "Support Vector Machine classification report (test set):\n",
      "               precision    recall  f1-score   support\n",
      "\n",
      " non-suicide       0.89      0.93      0.91      4656\n",
      "     suicide       0.93      0.89      0.91      4627\n",
      "\n",
      "    accuracy                           0.91      9283\n",
      "   macro avg       0.91      0.91      0.91      9283\n",
      "weighted avg       0.91      0.91      0.91      9283\n",
      "\n"
     ]
    }
   ],
   "source": [
    "print('For Sampled Dataset (TFIDF - unigrams)')\n",
    "print('Support Vector Machine confusion matrix (training set):\\n', confusion_matrix(y_train, svm_pred_train))\n",
    "print('Support Vector Machine classification report (training set):\\n', svm_train_report)\n",
    "print('Support Vector Machine confusion matrix (test set):\\n', confusion_matrix(y_test, svm_pred_test))\n",
    "print('Support Vector Machine classification report (test set):\\n', svm_test_report)"
   ]
  },
  {
   "cell_type": "markdown",
   "id": "055c1a1a",
   "metadata": {},
   "source": [
    "### Naïve Bayes (alpha = 0.1)"
   ]
  },
  {
   "cell_type": "code",
   "execution_count": 19,
   "id": "097156a8",
   "metadata": {},
   "outputs": [],
   "source": [
    "nb = MultinomialNB(alpha=0.1)\n",
    "nb.fit(X_train, y_train)\n",
    "nb_pred_train = nb.predict(X_train)\n",
    "nb_pred_test = nb.predict(X_test)\n",
    "nb_train_report = classification_report(y_train, nb_pred_train)\n",
    "nb_test_report = classification_report(y_test, nb_pred_test)"
   ]
  },
  {
   "cell_type": "code",
   "execution_count": 20,
   "id": "11cb0347",
   "metadata": {
    "scrolled": true
   },
   "outputs": [
    {
     "name": "stdout",
     "output_type": "stream",
     "text": [
      "For Sampled Dataset (TFIDF - unigrams)\n",
      "Naive Bayes confusion matrix (training set):\n",
      " [[15543  2977]\n",
      " [  875 17737]]\n",
      "Naive Bayes classification report (training set):\n",
      "               precision    recall  f1-score   support\n",
      "\n",
      " non-suicide       0.95      0.84      0.89     18520\n",
      "     suicide       0.86      0.95      0.90     18612\n",
      "\n",
      "    accuracy                           0.90     37132\n",
      "   macro avg       0.90      0.90      0.90     37132\n",
      "weighted avg       0.90      0.90      0.90     37132\n",
      "\n",
      "Naive Bayes confusion matrix (test set):\n",
      " [[3741  915]\n",
      " [ 293 4334]]\n",
      "Naive Bayes classification report (test set):\n",
      "               precision    recall  f1-score   support\n",
      "\n",
      " non-suicide       0.93      0.80      0.86      4656\n",
      "     suicide       0.83      0.94      0.88      4627\n",
      "\n",
      "    accuracy                           0.87      9283\n",
      "   macro avg       0.88      0.87      0.87      9283\n",
      "weighted avg       0.88      0.87      0.87      9283\n",
      "\n"
     ]
    }
   ],
   "source": [
    "print('For Sampled Dataset (TFIDF - unigrams)')\n",
    "print('Naive Bayes confusion matrix (training set):\\n', confusion_matrix(y_train, nb_pred_train))\n",
    "print('Naive Bayes classification report (training set):\\n', nb_train_report)\n",
    "print('Naive Bayes confusion matrix (test set):\\n', confusion_matrix(y_test, nb_pred_test))\n",
    "print('Naive Bayes classification report (test set):\\n', nb_test_report)"
   ]
  },
  {
   "cell_type": "markdown",
   "id": "0e65f6f5",
   "metadata": {},
   "source": [
    "## Bigrams "
   ]
  },
  {
   "cell_type": "code",
   "execution_count": 29,
   "id": "eefd6871",
   "metadata": {},
   "outputs": [],
   "source": [
    "X_train, X_test, y_train, y_test = train_test_split(samp_tfidf_matrix_2, sampled_targets, test_size=0.2, random_state=22)"
   ]
  },
  {
   "cell_type": "markdown",
   "id": "62a76146",
   "metadata": {},
   "source": [
    "### Logistic Regression (C = 5)"
   ]
  },
  {
   "cell_type": "code",
   "execution_count": 30,
   "id": "4d71b454",
   "metadata": {},
   "outputs": [
    {
     "name": "stderr",
     "output_type": "stream",
     "text": [
      "/Users/navneetparab/opt/anaconda3/lib/python3.9/site-packages/sklearn/linear_model/_sag.py:352: ConvergenceWarning: The max_iter was reached which means the coef_ did not converge\n",
      "  warnings.warn(\n"
     ]
    }
   ],
   "source": [
    "lr = LogisticRegression(C=5, penalty='l1', solver='saga')\n",
    "lr.fit(X_train, y_train)\n",
    "lr_pred_train = lr.predict(X_train)\n",
    "lr_pred_test = lr.predict(X_test)\n",
    "lr_train_report = classification_report(y_train, lr_pred_train)\n",
    "lr_test_report = classification_report(y_test, lr_pred_test)"
   ]
  },
  {
   "cell_type": "code",
   "execution_count": 31,
   "id": "29959a03",
   "metadata": {},
   "outputs": [
    {
     "name": "stdout",
     "output_type": "stream",
     "text": [
      "For Sampled Dataset (TFIDF - bigrams)\n",
      "Logistic Regression confusion matrix (training set):\n",
      " [[17924   596]\n",
      " [  739 17873]]\n",
      "Logistic Regression classification report (training set):\n",
      "               precision    recall  f1-score   support\n",
      "\n",
      " non-suicide       0.96      0.97      0.96     18520\n",
      "     suicide       0.97      0.96      0.96     18612\n",
      "\n",
      "    accuracy                           0.96     37132\n",
      "   macro avg       0.96      0.96      0.96     37132\n",
      "weighted avg       0.96      0.96      0.96     37132\n",
      "\n",
      "Logistic Regression confusion matrix (test set):\n",
      " [[4355  301]\n",
      " [ 498 4129]]\n",
      "Logistic Regression classification report (test set):\n",
      "               precision    recall  f1-score   support\n",
      "\n",
      " non-suicide       0.90      0.94      0.92      4656\n",
      "     suicide       0.93      0.89      0.91      4627\n",
      "\n",
      "    accuracy                           0.91      9283\n",
      "   macro avg       0.91      0.91      0.91      9283\n",
      "weighted avg       0.91      0.91      0.91      9283\n",
      "\n"
     ]
    }
   ],
   "source": [
    "# print the confusion matrix and classification report for each classifier on the training and test sets\n",
    "print('For Sampled Dataset (TFIDF - bigrams)')\n",
    "print('Logistic Regression confusion matrix (training set):\\n', confusion_matrix(y_train, lr_pred_train))\n",
    "print('Logistic Regression classification report (training set):\\n', lr_train_report)\n",
    "print('Logistic Regression confusion matrix (test set):\\n', confusion_matrix(y_test, lr_pred_test))\n",
    "print('Logistic Regression classification report (test set):\\n', lr_test_report)"
   ]
  },
  {
   "cell_type": "markdown",
   "id": "4d0b830b",
   "metadata": {},
   "source": [
    "### Support Vector Machines (C = 0.5)"
   ]
  },
  {
   "cell_type": "code",
   "execution_count": 22,
   "id": "356ac9f5",
   "metadata": {},
   "outputs": [],
   "source": [
    "SVM = LinearSVC(C=1, dual=True) #n_samples < n_features\n",
    "SVM.fit(X_train, y_train)\n",
    "svm_pred_train = SVM.predict(X_train)\n",
    "svm_pred_test = SVM.predict(X_test)\n",
    "svm_train_report = classification_report(y_train, svm_pred_train)\n",
    "svm_test_report = classification_report(y_test, svm_pred_test)"
   ]
  },
  {
   "cell_type": "code",
   "execution_count": 23,
   "id": "b773ecc3",
   "metadata": {},
   "outputs": [
    {
     "name": "stdout",
     "output_type": "stream",
     "text": [
      "For Sampled Dataset (TFIDF - bigrams)\n",
      "Support Vector Machine confusion matrix (training set):\n",
      " [[18458    62]\n",
      " [   75 18537]]\n",
      "Support Vector Machine classification report (training set):\n",
      "               precision    recall  f1-score   support\n",
      "\n",
      " non-suicide       1.00      1.00      1.00     18520\n",
      "     suicide       1.00      1.00      1.00     18612\n",
      "\n",
      "    accuracy                           1.00     37132\n",
      "   macro avg       1.00      1.00      1.00     37132\n",
      "weighted avg       1.00      1.00      1.00     37132\n",
      "\n",
      "Support Vector Machine confusion matrix (test set):\n",
      " [[4368  288]\n",
      " [ 508 4119]]\n",
      "Support Vector Machine classification report (test set):\n",
      "               precision    recall  f1-score   support\n",
      "\n",
      " non-suicide       0.90      0.94      0.92      4656\n",
      "     suicide       0.93      0.89      0.91      4627\n",
      "\n",
      "    accuracy                           0.91      9283\n",
      "   macro avg       0.92      0.91      0.91      9283\n",
      "weighted avg       0.92      0.91      0.91      9283\n",
      "\n"
     ]
    }
   ],
   "source": [
    "print('For Sampled Dataset (TFIDF - bigrams)')\n",
    "print('Support Vector Machine confusion matrix (training set):\\n', confusion_matrix(y_train, svm_pred_train))\n",
    "print('Support Vector Machine classification report (training set):\\n', svm_train_report)\n",
    "print('Support Vector Machine confusion matrix (test set):\\n', confusion_matrix(y_test, svm_pred_test))\n",
    "print('Support Vector Machine classification report (test set):\\n', svm_test_report)"
   ]
  },
  {
   "cell_type": "markdown",
   "id": "49e7fc4c",
   "metadata": {},
   "source": [
    "### Naïve Bayes (alpha = 0.01)"
   ]
  },
  {
   "cell_type": "code",
   "execution_count": 24,
   "id": "d9b16d9a",
   "metadata": {},
   "outputs": [],
   "source": [
    "nb = MultinomialNB(alpha=0.01)\n",
    "nb.fit(X_train, y_train)\n",
    "nb_pred_train = nb.predict(X_train)\n",
    "nb_pred_test = nb.predict(X_test)\n",
    "nb_train_report = classification_report(y_train, nb_pred_train)\n",
    "nb_test_report = classification_report(y_test, nb_pred_test)"
   ]
  },
  {
   "cell_type": "code",
   "execution_count": 25,
   "id": "f9f7e6a8",
   "metadata": {},
   "outputs": [
    {
     "name": "stdout",
     "output_type": "stream",
     "text": [
      "For Sampled Dataset (TFIDF - bigrams)\n",
      "Naive Bayes confusion matrix (training set):\n",
      " [[18167   353]\n",
      " [   74 18538]]\n",
      "Naive Bayes classification report (training set):\n",
      "               precision    recall  f1-score   support\n",
      "\n",
      " non-suicide       1.00      0.98      0.99     18520\n",
      "     suicide       0.98      1.00      0.99     18612\n",
      "\n",
      "    accuracy                           0.99     37132\n",
      "   macro avg       0.99      0.99      0.99     37132\n",
      "weighted avg       0.99      0.99      0.99     37132\n",
      "\n",
      "Naive Bayes confusion matrix (test set):\n",
      " [[3706  950]\n",
      " [ 272 4355]]\n",
      "Naive Bayes classification report (test set):\n",
      "               precision    recall  f1-score   support\n",
      "\n",
      " non-suicide       0.93      0.80      0.86      4656\n",
      "     suicide       0.82      0.94      0.88      4627\n",
      "\n",
      "    accuracy                           0.87      9283\n",
      "   macro avg       0.88      0.87      0.87      9283\n",
      "weighted avg       0.88      0.87      0.87      9283\n",
      "\n"
     ]
    }
   ],
   "source": [
    "print('For Sampled Dataset (TFIDF - bigrams)')\n",
    "print('Naive Bayes confusion matrix (training set):\\n', confusion_matrix(y_train, nb_pred_train))\n",
    "print('Naive Bayes classification report (training set):\\n', nb_train_report)\n",
    "print('Naive Bayes confusion matrix (test set):\\n', confusion_matrix(y_test, nb_pred_test))\n",
    "print('Naive Bayes classification report (test set):\\n', nb_test_report)"
   ]
  },
  {
   "cell_type": "markdown",
   "id": "96f5783a",
   "metadata": {},
   "source": [
    "# Training and Testing with stratified k folds"
   ]
  },
  {
   "cell_type": "code",
   "execution_count": 15,
   "id": "15f3b526",
   "metadata": {},
   "outputs": [],
   "source": [
    "# Training and Testing with Stratified k Folds\n",
    "def model_performance(folds, data_frame, targets, vectorizer, classifier):\n",
    "\n",
    "    precision_list_train = []\n",
    "    precision_list_test = []\n",
    "    recall_list_train = []\n",
    "    recall_list_test = []\n",
    "    f1_list_train = []\n",
    "    f1_list_test = []\n",
    "    \n",
    "    # Fold data in K folds maintaining balanced spam and non-spam emails in training\n",
    "    skf = StratifiedKFold(n_splits=folds, shuffle=True)\n",
    "\n",
    "    for train_index, test_index in skf.split(data_frame, targets):\n",
    "        # Split into test and train\n",
    "        X_train, X_test = data_frame['body'][train_index].values.astype('U'), data_frame['body'][test_index].values.astype('U')\n",
    "        y_train, y_test = targets[train_index], targets[test_index]\n",
    "        \n",
    "        # Transformation and Fit\n",
    "        X_vect = vectorizer.fit_transform(X_train)\n",
    "        classifier.fit(X_vect, y_train)\n",
    "        X_test_vect = vectorizer.transform(X_test)\n",
    "        y_predict_train = classifier.predict(X_vect)\n",
    "        y_predict_test = classifier.predict(X_test_vect)\n",
    "        \n",
    "        # Confusion matrix, Precision, Recall and F1 Score\n",
    "        confusion_train = confusion_matrix(y_train, y_predict_train, labels=classifier.classes_)\n",
    "        confusion_test = confusion_matrix(y_test, y_predict_test, labels=classifier.classes_)\n",
    "        \n",
    "        precision_recall_f1score_train = p_r_f1(y_train, y_predict_train, labels=classifier.classes_, average='binary', pos_label='suicide')\n",
    "        precision_recall_f1score_test = p_r_f1(y_test, y_predict_test, labels=classifier.classes_, average='binary', pos_label='suicide')\n",
    "        \n",
    "        # Precision list\n",
    "        precision_value_train = precision_recall_f1score_train[0]\n",
    "        precision_list_train.append(precision_value_train)\n",
    "        precision_value_test = precision_recall_f1score_test[0]\n",
    "        precision_list_test.append(precision_value_test)\n",
    "        \n",
    "        # Recall list\n",
    "        recall_value_train = precision_recall_f1score_train[1]\n",
    "        recall_list_train.append(recall_value_train)\n",
    "        recall_value_test = precision_recall_f1score_test[1]\n",
    "        recall_list_test.append(recall_value_test)\n",
    "        \n",
    "        # F1 Score list\n",
    "        f1_value_train = precision_recall_f1score_train[2]\n",
    "        f1_list_train.append(f1_value_train)\n",
    "        f1_value_test = precision_recall_f1score_test[2]\n",
    "        f1_list_test.append(f1_value_test)\n",
    "    \n",
    "    # Storing all metrics and confusion matrix\n",
    "    score_train = avg_score(precision_list_train, recall_list_train, f1_list_train)\n",
    "    disp_train = ConfusionMatrixDisplay(confusion_matrix=confusion_train, display_labels=classifier.classes_)\n",
    "    score_test = avg_score(precision_list_test, recall_list_test, f1_list_test)\n",
    "    disp_test = ConfusionMatrixDisplay(confusion_matrix=confusion_test, display_labels=classifier.classes_)\n",
    "     \n",
    "    return score_train, disp_train, score_test, disp_test"
   ]
  },
  {
   "cell_type": "code",
   "execution_count": 16,
   "id": "21ed589f",
   "metadata": {},
   "outputs": [],
   "source": [
    "# Average values for Precision, Recall and F1 Score\n",
    "def avg_score(precision_list, recall_list, f1_list):\n",
    "    \n",
    "    avg_precision = np.mean(precision_list, axis = 0)\n",
    "    avg_recall = np.mean(recall_list, axis = 0)\n",
    "    avg_f1 = np.mean(f1_list, axis = 0)\n",
    "    \n",
    "    return avg_precision, avg_recall, avg_f1"
   ]
  },
  {
   "cell_type": "code",
   "execution_count": 17,
   "id": "f452f4fd",
   "metadata": {},
   "outputs": [],
   "source": [
    "def display_score(score):\n",
    "        print('Average score of 5 folds :','\\n'\\\n",
    "          '\\t Precision: \\t {:.3f}'.format(score[0]),'\\n' \\\n",
    "          '\\t Recall: \\t {:.3f}'.format(score[1]),'\\n' \\\n",
    "          '\\t F-1 Score: \\t {:.3f}'.format(score[2]),'\\n')"
   ]
  },
  {
   "cell_type": "code",
   "execution_count": 18,
   "id": "13e3fd1d",
   "metadata": {},
   "outputs": [],
   "source": [
    "def learning_curve(data_frame, targets, vectorizer, classifier):\n",
    "    folds_list = np.arange(10, 1, -1)\n",
    "    precision_list =[]\n",
    "    recall_list = []\n",
    "    f1_scores_list = []\n",
    "    \n",
    "    for fold in folds_list:\n",
    "        test_score = model_performance(fold, data_frame, targets, vectorizer, classifier)[2];\n",
    "        precision_list.append(test_score[0])\n",
    "        recall_list.append(test_score[1])\n",
    "        f1_scores_list.append(test_score[2])\n",
    "        \n",
    "    plt.plot(100/folds_list, precision_list, label = 'Precision')    \n",
    "    plt.plot(100/folds_list, recall_list, label = 'Recall')    \n",
    "    plt.plot(100/folds_list, f1_scores_list, label = 'F1 Score')\n",
    "    plt.xlabel('Training set size (in %)')\n",
    "    plt.ylabel('Score')\n",
    "    plt.legend()"
   ]
  },
  {
   "cell_type": "markdown",
   "id": "d41f201b",
   "metadata": {},
   "source": [
    "## Unigrams "
   ]
  },
  {
   "cell_type": "code",
   "execution_count": 38,
   "id": "4b384efd",
   "metadata": {},
   "outputs": [],
   "source": [
    "LogisticRegression_L1_c_1=LogisticRegression(penalty='l1', C = 1, solver='saga', max_iter=1000)\n",
    "svm_05 = LinearSVC(C=0.5, dual=False) #n_samples > n_features\n",
    "naive_bayes_01 = MultinomialNB(alpha=0.1)"
   ]
  },
  {
   "cell_type": "code",
   "execution_count": 39,
   "id": "36832250",
   "metadata": {},
   "outputs": [],
   "source": [
    "df_scores = pd.DataFrame(index=['Precision', 'Recall', 'F1 Score'])"
   ]
  },
  {
   "cell_type": "code",
   "execution_count": 40,
   "id": "6d195368",
   "metadata": {},
   "outputs": [
    {
     "name": "stdout",
     "output_type": "stream",
     "text": [
      "For Sampled Dataset (TFIDF - unigrams)\n",
      "Logistic Regression L1 regularization (C = 1) tfidf vectorized \n",
      "\n",
      "\n",
      "Training\n",
      "Average score of 5 folds : \n",
      "\t Precision: \t 0.935 \n",
      "\t Recall: \t 0.904 \n",
      "\t F-1 Score: \t 0.920 \n",
      "\n",
      "\n",
      "Testing\n",
      "Average score of 5 folds : \n",
      "\t Precision: \t 0.925 \n",
      "\t Recall: \t 0.892 \n",
      "\t F-1 Score: \t 0.909 \n",
      "\n"
     ]
    },
    {
     "data": {
      "image/png": "[encoded data removed]",
      "text/plain": [
       "<Figure size 432x288 with 2 Axes>"
      ]
     },
     "metadata": {
      "needs_background": "light"
     },
     "output_type": "display_data"
    },
    {
     "data": {
      "image/png": "[encoded data removed]",
      "text/plain": [
       "<Figure size 432x288 with 2 Axes>"
      ]
     },
     "metadata": {
      "needs_background": "light"
     },
     "output_type": "display_data"
    }
   ],
   "source": [
    "print('For Sampled Dataset (TFIDF - unigrams)')\n",
    "print(\"Logistic Regression L1 regularization (C = 1) tfidf vectorized \\n\")\n",
    "train_score, train_plot, test_score, test_plot = model_performance(5, sampled_data, sampled_targets, samp_tfidf_vectorizer_1, LogisticRegression_L1_c_1)\n",
    "df_scores['Logistic Regression (L1, C = 1) Training'] = list(train_score)\n",
    "df_scores['Logistic Regression (L1, C = 1)'] = list(test_score)\n",
    "\n",
    "print('\\nTraining')\n",
    "display_score(train_score)\n",
    "train_plot.plot()\n",
    "\n",
    "print('\\nTesting')\n",
    "display_score(test_score)\n",
    "test_plot.plot();"
   ]
  },
  {
   "cell_type": "code",
   "execution_count": 41,
   "id": "4f10be66",
   "metadata": {},
   "outputs": [
    {
     "name": "stdout",
     "output_type": "stream",
     "text": [
      "For Sampled Dataset (TFIDF - unigrams)\n",
      "Support Vector Machine (C = 0.5) tfidf vectorized \n",
      "\n",
      "Training\n",
      "Average score of 5 folds : \n",
      "\t Precision: \t 0.952 \n",
      "\t Recall: \t 0.938 \n",
      "\t F-1 Score: \t 0.945 \n",
      "\n",
      "\n",
      "Testing\n",
      "Average score of 5 folds : \n",
      "\t Precision: \t 0.925 \n",
      "\t Recall: \t 0.898 \n",
      "\t F-1 Score: \t 0.911 \n",
      "\n"
     ]
    },
    {
     "data": {
      "image/png": "[encoded data removed]",
      "text/plain": [
       "<Figure size 432x288 with 2 Axes>"
      ]
     },
     "metadata": {
      "needs_background": "light"
     },
     "output_type": "display_data"
    },
    {
     "data": {
      "image/png": "[encoded data removed]",
      "text/plain": [
       "<Figure size 432x288 with 2 Axes>"
      ]
     },
     "metadata": {
      "needs_background": "light"
     },
     "output_type": "display_data"
    }
   ],
   "source": [
    "print('For Sampled Dataset (TFIDF - unigrams)')\n",
    "print(\"Support Vector Machine (C = 0.5) tfidf vectorized \")\n",
    "train_score, train_plot, test_score, test_plot = model_performance(5, sampled_data, sampled_targets, samp_tfidf_vectorizer_1, svm_05)\n",
    "df_scores['Support Vector Machine (C = 0.5) Training'] = list(train_score)\n",
    "df_scores['Support Vector Machine (C = 0.5) Testing'] = list(test_score)\n",
    "\n",
    "print('\\nTraining')\n",
    "display_score(train_score)\n",
    "train_plot.plot()\n",
    "\n",
    "print('\\nTesting')\n",
    "display_score(test_score)\n",
    "test_plot.plot();"
   ]
  },
  {
   "cell_type": "code",
   "execution_count": 43,
   "id": "829e9c6c",
   "metadata": {},
   "outputs": [
    {
     "name": "stdout",
     "output_type": "stream",
     "text": [
      "For Sampled Dataset (TFIDF - unigrams)\n",
      "Naive Bayes (alpha = 0.1) tfidf vectorized \n",
      "\n",
      "Training\n",
      "Average score of 5 folds : \n",
      "\t Precision: \t 0.855 \n",
      "\t Recall: \t 0.953 \n",
      "\t F-1 Score: \t 0.901 \n",
      "\n",
      "\n",
      "Testing\n",
      "Average score of 5 folds : \n",
      "\t Precision: \t 0.822 \n",
      "\t Recall: \t 0.941 \n",
      "\t F-1 Score: \t 0.878 \n",
      "\n"
     ]
    },
    {
     "data": {
      "image/png": "[encoded data removed]",
      "text/plain": [
       "<Figure size 432x288 with 2 Axes>"
      ]
     },
     "metadata": {
      "needs_background": "light"
     },
     "output_type": "display_data"
    },
    {
     "data": {
      "image/png": "[encoded data removed]",
      "text/plain": [
       "<Figure size 432x288 with 2 Axes>"
      ]
     },
     "metadata": {
      "needs_background": "light"
     },
     "output_type": "display_data"
    }
   ],
   "source": [
    "print('For Sampled Dataset (TFIDF - unigrams)')\n",
    "print(\"Naive Bayes (alpha = 0.1) tfidf vectorized \")\n",
    "train_score, train_plot, test_score, test_plot = model_performance(5, sampled_data, sampled_targets, samp_tfidf_vectorizer_1, naive_bayes_01)\n",
    "df_scores['Naive Bayes (alpha = 0.1) Training'] = list(train_score)\n",
    "df_scores['Naive Bayes (alpha = 0.1) Testing'] = list(test_score)\n",
    "\n",
    "print('\\nTraining')\n",
    "display_score(train_score)\n",
    "train_plot.plot()\n",
    "\n",
    "print('\\nTesting')\n",
    "display_score(test_score)\n",
    "test_plot.plot();"
   ]
  },
  {
   "cell_type": "code",
   "execution_count": 44,
   "id": "5f4ccffe",
   "metadata": {
    "scrolled": false
   },
   "outputs": [
    {
     "data": {
      "text/html": [
       "<div>\n",
       "<style scoped>\n",
       "    .dataframe tbody tr th:only-of-type {\n",
       "        vertical-align: middle;\n",
       "    }\n",
       "\n",
       "    .dataframe tbody tr th {\n",
       "        vertical-align: top;\n",
       "    }\n",
       "\n",
       "    .dataframe thead th {\n",
       "        text-align: right;\n",
       "    }\n",
       "</style>\n",
       "<table border=\"1\" class=\"dataframe\">\n",
       "  <thead>\n",
       "    <tr style=\"text-align: right;\">\n",
       "      <th></th>\n",
       "      <th>Logistic Regression (L1, C = 1) Training</th>\n",
       "      <th>Logistic Regression (L1, C = 1)</th>\n",
       "      <th>Support Vector Machine (C = 0.5) Training</th>\n",
       "      <th>Support Vector Machine (C = 0.5) Testing</th>\n",
       "      <th>Naive Bayes (alpha = 0.1) Training</th>\n",
       "      <th>Naive Bayes (alpha = 0.1) Testing</th>\n",
       "    </tr>\n",
       "  </thead>\n",
       "  <tbody>\n",
       "    <tr>\n",
       "      <th>Precision</th>\n",
       "      <td>0.935150</td>\n",
       "      <td>0.925268</td>\n",
       "      <td>0.952418</td>\n",
       "      <td>0.924631</td>\n",
       "      <td>0.855233</td>\n",
       "      <td>0.822170</td>\n",
       "    </tr>\n",
       "    <tr>\n",
       "      <th>Recall</th>\n",
       "      <td>0.904396</td>\n",
       "      <td>0.892422</td>\n",
       "      <td>0.937777</td>\n",
       "      <td>0.897758</td>\n",
       "      <td>0.952838</td>\n",
       "      <td>0.941176</td>\n",
       "    </tr>\n",
       "    <tr>\n",
       "      <th>F1 Score</th>\n",
       "      <td>0.919515</td>\n",
       "      <td>0.908545</td>\n",
       "      <td>0.945041</td>\n",
       "      <td>0.910991</td>\n",
       "      <td>0.901400</td>\n",
       "      <td>0.877654</td>\n",
       "    </tr>\n",
       "  </tbody>\n",
       "</table>\n",
       "</div>"
      ],
      "text/plain": [
       "           Logistic Regression (L1, C = 1) Training  \\\n",
       "Precision                                  0.935150   \n",
       "Recall                                     0.904396   \n",
       "F1 Score                                   0.919515   \n",
       "\n",
       "           Logistic Regression (L1, C = 1)  \\\n",
       "Precision                         0.925268   \n",
       "Recall                            0.892422   \n",
       "F1 Score                          0.908545   \n",
       "\n",
       "           Support Vector Machine (C = 0.5) Training  \\\n",
       "Precision                                   0.952418   \n",
       "Recall                                      0.937777   \n",
       "F1 Score                                    0.945041   \n",
       "\n",
       "           Support Vector Machine (C = 0.5) Testing  \\\n",
       "Precision                                  0.924631   \n",
       "Recall                                     0.897758   \n",
       "F1 Score                                   0.910991   \n",
       "\n",
       "           Naive Bayes (alpha = 0.1) Training  \\\n",
       "Precision                            0.855233   \n",
       "Recall                               0.952838   \n",
       "F1 Score                             0.901400   \n",
       "\n",
       "           Naive Bayes (alpha = 0.1) Testing  \n",
       "Precision                           0.822170  \n",
       "Recall                              0.941176  \n",
       "F1 Score                            0.877654  "
      ]
     },
     "execution_count": 44,
     "metadata": {},
     "output_type": "execute_result"
    }
   ],
   "source": [
    "df_scores"
   ]
  },
  {
   "cell_type": "markdown",
   "id": "f2d1c82d",
   "metadata": {},
   "source": [
    "### Learning Curves"
   ]
  },
  {
   "cell_type": "markdown",
   "id": "79f6aa04",
   "metadata": {},
   "source": [
    "#### Logistic Regression"
   ]
  },
  {
   "cell_type": "code",
   "execution_count": null,
   "id": "0f365586",
   "metadata": {},
   "outputs": [],
   "source": [
    "learning_curve(sampled_data, sampled_targets, samp_tfidf_vectorizer_1, LogisticRegression_L1_c_1)"
   ]
  },
  {
   "cell_type": "markdown",
   "id": "0da82a85",
   "metadata": {},
   "source": [
    "#### Support Vector Machine"
   ]
  },
  {
   "cell_type": "code",
   "execution_count": null,
   "id": "e6e2b2eb",
   "metadata": {},
   "outputs": [],
   "source": [
    "learning_curve(sampled_data, sampled_targets, samp_tfidf_vectorizer_1, svm_05)"
   ]
  },
  {
   "cell_type": "markdown",
   "id": "7ff07d5d",
   "metadata": {},
   "source": [
    "#### Naïve Bayes"
   ]
  },
  {
   "cell_type": "code",
   "execution_count": null,
   "id": "f9d553b2",
   "metadata": {},
   "outputs": [],
   "source": [
    "learning_curve(sampled_data, sampled_targets, samp_tfidf_vectorizer_1, naive_bayes_01)\n"
   ]
  },
  {
   "cell_type": "markdown",
   "id": "80a4ae69",
   "metadata": {},
   "source": [
    "### Tokens"
   ]
  },
  {
   "cell_type": "code",
   "execution_count": 50,
   "id": "db11e807",
   "metadata": {},
   "outputs": [
    {
     "name": "stdout",
     "output_type": "stream",
     "text": [
      "1. ideation (0.40)\n",
      "2. inpatient (0.40)\n",
      "3. overdose (0.39)\n",
      "4. suicide (0.38)\n",
      "5. painless (0.38)\n",
      "6. prescription (0.38)\n",
      "7. retarded (0.37)\n",
      "8. suicidal (0.37)\n",
      "9. noose (0.36)\n",
      "10. jobless (0.34)\n"
     ]
    }
   ],
   "source": [
    "# get the probabilities of each token given that the email is spam and ham\n",
    "p_risk = naive_bayes_01.feature_log_prob_[0, :]\n",
    "p_no_risk = naive_bayes_01.feature_log_prob_[1, :]\n",
    "\n",
    "# calculate the log-ratio of the probabilities for each token\n",
    "log_ratio = np.log(p_risk / p_no_risk)\n",
    "\n",
    "# get the feature names from the TF-IDF vectorizer\n",
    "feature_names = samp_tfidf_vectorizer_1.get_feature_names_out()\n",
    "\n",
    "# sort the tokens based on the log-ratio in descending order\n",
    "sorted_indices = np.argsort(log_ratio)[::-1]\n",
    "\n",
    "# print the 10 most indicative tokens for the spam class\n",
    "for i in range(10):\n",
    "    token_index = sorted_indices[i]\n",
    "    token_log_ratio = log_ratio[token_index]\n",
    "    token_name = feature_names[token_index]\n",
    "    print(f\"{i+1}. {token_name} ({token_log_ratio:.2f})\")"
   ]
  },
  {
   "cell_type": "markdown",
   "id": "a961ab4b",
   "metadata": {},
   "source": [
    "## Bigrams "
   ]
  },
  {
   "cell_type": "code",
   "execution_count": 51,
   "id": "026ce995",
   "metadata": {},
   "outputs": [],
   "source": [
    "LogisticRegression_L1_c_5=LogisticRegression(penalty='l1', C = 5, solver='saga', max_iter=1000)\n",
    "svm_1 = LinearSVC(C=1, dual=True) #n_samples < n_features\n",
    "naive_bayes_001 = MultinomialNB(alpha=0.01)"
   ]
  },
  {
   "cell_type": "code",
   "execution_count": 52,
   "id": "bca93b8a",
   "metadata": {},
   "outputs": [],
   "source": [
    "df_scores = pd.DataFrame(index=['Precision', 'Recall', 'F1 Score'])"
   ]
  },
  {
   "cell_type": "code",
   "execution_count": 53,
   "id": "a16e206e",
   "metadata": {},
   "outputs": [
    {
     "name": "stdout",
     "output_type": "stream",
     "text": [
      "For Sampled Dataset (TFIDF - bigrams)\n",
      "Logistic Regression L1 regularization (C = 5) tfidf vectorized \n",
      "\n"
     ]
    },
    {
     "name": "stderr",
     "output_type": "stream",
     "text": [
      "/Users/navneetparab/opt/anaconda3/lib/python3.9/site-packages/sklearn/linear_model/_sag.py:352: ConvergenceWarning: The max_iter was reached which means the coef_ did not converge\n",
      "  warnings.warn(\n",
      "/Users/navneetparab/opt/anaconda3/lib/python3.9/site-packages/sklearn/linear_model/_sag.py:352: ConvergenceWarning: The max_iter was reached which means the coef_ did not converge\n",
      "  warnings.warn(\n",
      "/Users/navneetparab/opt/anaconda3/lib/python3.9/site-packages/sklearn/linear_model/_sag.py:352: ConvergenceWarning: The max_iter was reached which means the coef_ did not converge\n",
      "  warnings.warn(\n",
      "/Users/navneetparab/opt/anaconda3/lib/python3.9/site-packages/sklearn/linear_model/_sag.py:352: ConvergenceWarning: The max_iter was reached which means the coef_ did not converge\n",
      "  warnings.warn(\n",
      "/Users/navneetparab/opt/anaconda3/lib/python3.9/site-packages/sklearn/linear_model/_sag.py:352: ConvergenceWarning: The max_iter was reached which means the coef_ did not converge\n",
      "  warnings.warn(\n"
     ]
    },
    {
     "name": "stdout",
     "output_type": "stream",
     "text": [
      "\n",
      "Training\n",
      "Average score of 5 folds : \n",
      "\t Precision: \t 0.969 \n",
      "\t Recall: \t 0.963 \n",
      "\t F-1 Score: \t 0.966 \n",
      "\n",
      "\n",
      "Testing\n",
      "Average score of 5 folds : \n",
      "\t Precision: \t 0.904 \n",
      "\t Recall: \t 0.918 \n",
      "\t F-1 Score: \t 0.911 \n",
      "\n"
     ]
    },
    {
     "data": {
      "image/png": "[encoded data removed]",
      "text/plain": [
       "<Figure size 432x288 with 2 Axes>"
      ]
     },
     "metadata": {
      "needs_background": "light"
     },
     "output_type": "display_data"
    },
    {
     "data": {
      "image/png": "[encoded data removed]",
      "text/plain": [
       "<Figure size 432x288 with 2 Axes>"
      ]
     },
     "metadata": {
      "needs_background": "light"
     },
     "output_type": "display_data"
    }
   ],
   "source": [
    "print('For Sampled Dataset (TFIDF - bigrams)')\n",
    "print(\"Logistic Regression L1 regularization (C = 5) tfidf vectorized \\n\")\n",
    "train_score, train_plot, test_score, test_plot = model_performance(5, sampled_data, sampled_targets, samp_tfidf_vectorizer_2, LogisticRegression_L1_c_5)\n",
    "df_scores['Logistic Regression (L1, C = 5) Training'] = list(train_score)\n",
    "df_scores['Logistic Regression (L1, C = 5)'] = list(test_score)\n",
    "\n",
    "print('\\nTraining')\n",
    "display_score(train_score)\n",
    "train_plot.plot()\n",
    "\n",
    "print('\\nTesting')\n",
    "display_score(test_score)\n",
    "test_plot.plot();"
   ]
  },
  {
   "cell_type": "code",
   "execution_count": 54,
   "id": "b027cc40",
   "metadata": {},
   "outputs": [
    {
     "name": "stdout",
     "output_type": "stream",
     "text": [
      "For Sampled Dataset (TFIDF - bigrams)\n",
      "Support Vector Machine (C = 1) tfidf vectorized \n",
      "\n",
      "Training\n",
      "Average score of 5 folds : \n",
      "\t Precision: \t 0.996 \n",
      "\t Recall: \t 0.996 \n",
      "\t F-1 Score: \t 0.996 \n",
      "\n",
      "\n",
      "Testing\n",
      "Average score of 5 folds : \n",
      "\t Precision: \t 0.912 \n",
      "\t Recall: \t 0.920 \n",
      "\t F-1 Score: \t 0.916 \n",
      "\n"
     ]
    },
    {
     "data": {
      "image/png": "[encoded data removed]",
      "text/plain": [
       "<Figure size 432x288 with 2 Axes>"
      ]
     },
     "metadata": {
      "needs_background": "light"
     },
     "output_type": "display_data"
    },
    {
     "data": {
      "image/png": "[encoded data removed]",
      "text/plain": [
       "<Figure size 432x288 with 2 Axes>"
      ]
     },
     "metadata": {
      "needs_background": "light"
     },
     "output_type": "display_data"
    }
   ],
   "source": [
    "print('For Sampled Dataset (TFIDF - bigrams)')\n",
    "print(\"Support Vector Machine (C = 1) tfidf vectorized \")\n",
    "train_score, train_plot, test_score, test_plot = model_performance(5, sampled_data, sampled_targets, samp_tfidf_vectorizer_2, svm_1)\n",
    "df_scores['Support Vector Machine (C = 1) Training'] = list(train_score)\n",
    "df_scores['Support Vector Machine (C = 1) Testing'] = list(test_score)\n",
    "\n",
    "print('\\nTraining')\n",
    "display_score(train_score)\n",
    "train_plot.plot()\n",
    "\n",
    "print('\\nTesting')\n",
    "display_score(test_score)\n",
    "test_plot.plot();"
   ]
  },
  {
   "cell_type": "code",
   "execution_count": 56,
   "id": "d5888f6f",
   "metadata": {},
   "outputs": [
    {
     "name": "stdout",
     "output_type": "stream",
     "text": [
      "For Sampled Dataset (TFIDF - bigrams)\n",
      "Naive Bayes (alpha = 0.01) tfidf vectorized \n",
      "\n",
      "Training\n",
      "Average score of 5 folds : \n",
      "\t Precision: \t 0.981 \n",
      "\t Recall: \t 0.996 \n",
      "\t F-1 Score: \t 0.988 \n",
      "\n",
      "\n",
      "Testing\n",
      "Average score of 5 folds : \n",
      "\t Precision: \t 0.756 \n",
      "\t Recall: \t 0.972 \n",
      "\t F-1 Score: \t 0.851 \n",
      "\n"
     ]
    },
    {
     "data": {
      "image/png": "[encoded data removed]",
      "text/plain": [
       "<Figure size 432x288 with 2 Axes>"
      ]
     },
     "metadata": {
      "needs_background": "light"
     },
     "output_type": "display_data"
    },
    {
     "data": {
      "image/png": "[encoded data removed]",
      "text/plain": [
       "<Figure size 432x288 with 2 Axes>"
      ]
     },
     "metadata": {
      "needs_background": "light"
     },
     "output_type": "display_data"
    }
   ],
   "source": [
    "print('For Sampled Dataset (TFIDF - bigrams)')\n",
    "print(\"Naive Bayes (alpha = 0.01) tfidf vectorized \")\n",
    "train_score, train_plot, test_score, test_plot = model_performance(5, sampled_data, sampled_targets, samp_tfidf_vectorizer_2, naive_bayes_001)\n",
    "df_scores['Naive Bayes (alpha = 0.01) Training'] = list(train_score)\n",
    "df_scores['Naive Bayes (alpha = 0.01) Testing'] = list(test_score)\n",
    "\n",
    "print('\\nTraining')\n",
    "display_score(train_score)\n",
    "train_plot.plot()\n",
    "\n",
    "print('\\nTesting')\n",
    "display_score(test_score)\n",
    "test_plot.plot();"
   ]
  },
  {
   "cell_type": "code",
   "execution_count": 57,
   "id": "788a5448",
   "metadata": {
    "scrolled": true
   },
   "outputs": [
    {
     "data": {
      "text/html": [
       "<div>\n",
       "<style scoped>\n",
       "    .dataframe tbody tr th:only-of-type {\n",
       "        vertical-align: middle;\n",
       "    }\n",
       "\n",
       "    .dataframe tbody tr th {\n",
       "        vertical-align: top;\n",
       "    }\n",
       "\n",
       "    .dataframe thead th {\n",
       "        text-align: right;\n",
       "    }\n",
       "</style>\n",
       "<table border=\"1\" class=\"dataframe\">\n",
       "  <thead>\n",
       "    <tr style=\"text-align: right;\">\n",
       "      <th></th>\n",
       "      <th>Logistic Regression (L1, C = 5) Training</th>\n",
       "      <th>Logistic Regression (L1, C = 5)</th>\n",
       "      <th>Support Vector Machine (C = 1) Training</th>\n",
       "      <th>Support Vector Machine (C = 1) Testing</th>\n",
       "      <th>Naive Bayes (alpha = 0.01) Training</th>\n",
       "      <th>Naive Bayes (alpha = 0.01) Testing</th>\n",
       "    </tr>\n",
       "  </thead>\n",
       "  <tbody>\n",
       "    <tr>\n",
       "      <th>Precision</th>\n",
       "      <td>0.968957</td>\n",
       "      <td>0.903820</td>\n",
       "      <td>0.996438</td>\n",
       "      <td>0.911986</td>\n",
       "      <td>0.980633</td>\n",
       "      <td>0.756337</td>\n",
       "    </tr>\n",
       "    <tr>\n",
       "      <th>Recall</th>\n",
       "      <td>0.962692</td>\n",
       "      <td>0.917768</td>\n",
       "      <td>0.996116</td>\n",
       "      <td>0.919575</td>\n",
       "      <td>0.995686</td>\n",
       "      <td>0.972202</td>\n",
       "    </tr>\n",
       "    <tr>\n",
       "      <th>F1 Score</th>\n",
       "      <td>0.965814</td>\n",
       "      <td>0.910733</td>\n",
       "      <td>0.996277</td>\n",
       "      <td>0.915752</td>\n",
       "      <td>0.988102</td>\n",
       "      <td>0.850786</td>\n",
       "    </tr>\n",
       "  </tbody>\n",
       "</table>\n",
       "</div>"
      ],
      "text/plain": [
       "           Logistic Regression (L1, C = 5) Training  \\\n",
       "Precision                                  0.968957   \n",
       "Recall                                     0.962692   \n",
       "F1 Score                                   0.965814   \n",
       "\n",
       "           Logistic Regression (L1, C = 5)  \\\n",
       "Precision                         0.903820   \n",
       "Recall                            0.917768   \n",
       "F1 Score                          0.910733   \n",
       "\n",
       "           Support Vector Machine (C = 1) Training  \\\n",
       "Precision                                 0.996438   \n",
       "Recall                                    0.996116   \n",
       "F1 Score                                  0.996277   \n",
       "\n",
       "           Support Vector Machine (C = 1) Testing  \\\n",
       "Precision                                0.911986   \n",
       "Recall                                   0.919575   \n",
       "F1 Score                                 0.915752   \n",
       "\n",
       "           Naive Bayes (alpha = 0.01) Training  \\\n",
       "Precision                             0.980633   \n",
       "Recall                                0.995686   \n",
       "F1 Score                              0.988102   \n",
       "\n",
       "           Naive Bayes (alpha = 0.01) Testing  \n",
       "Precision                            0.756337  \n",
       "Recall                               0.972202  \n",
       "F1 Score                             0.850786  "
      ]
     },
     "execution_count": 57,
     "metadata": {},
     "output_type": "execute_result"
    }
   ],
   "source": [
    "df_scores"
   ]
  },
  {
   "cell_type": "markdown",
   "id": "f5f51dee",
   "metadata": {},
   "source": [
    "### Learning Curves"
   ]
  },
  {
   "cell_type": "markdown",
   "id": "26a194ae",
   "metadata": {},
   "source": [
    "#### Logistic Regression"
   ]
  },
  {
   "cell_type": "code",
   "execution_count": null,
   "id": "122a33aa",
   "metadata": {},
   "outputs": [],
   "source": [
    "learning_curve(sampled_data, sampled_targets, samp_tfidf_vectorizer_2, LogisticRegression_L1_c_5)"
   ]
  },
  {
   "cell_type": "markdown",
   "id": "4362cdca",
   "metadata": {},
   "source": [
    "#### Support Vector Machine"
   ]
  },
  {
   "cell_type": "code",
   "execution_count": null,
   "id": "a4c3598c",
   "metadata": {},
   "outputs": [],
   "source": [
    "learning_curve(sampled_data, sampled_targets, samp_tfidf_vectorizer_2, svm_1)"
   ]
  },
  {
   "cell_type": "markdown",
   "id": "41cddf62",
   "metadata": {},
   "source": [
    "#### Naïve Bayes"
   ]
  },
  {
   "cell_type": "code",
   "execution_count": null,
   "id": "5614d8fa",
   "metadata": {},
   "outputs": [],
   "source": [
    "learning_curve(sampled_data, sampled_targets, samp_tfidf_vectorizer_2, naive_bayes_001)\n"
   ]
  },
  {
   "cell_type": "markdown",
   "id": "288a6a46",
   "metadata": {},
   "source": [
    "### Tokens"
   ]
  },
  {
   "cell_type": "code",
   "execution_count": 58,
   "id": "af86bc20",
   "metadata": {},
   "outputs": [
    {
     "name": "stdout",
     "output_type": "stream",
     "text": [
      "1. think suicide (0.53)\n",
      "2. psych ward (0.51)\n",
      "3. feeling suicidal (0.50)\n",
      "4. tired feeling (0.50)\n",
      "5. tired living (0.50)\n",
      "6. ideation (0.50)\n",
      "7. wish dead (0.49)\n",
      "8. suicidal ideation (0.47)\n",
      "9. hurt family (0.47)\n",
      "10. burden everyone (0.47)\n"
     ]
    }
   ],
   "source": [
    "p_risk = naive_bayes_001.feature_log_prob_[0, :]\n",
    "p_no_risk = naive_bayes_001.feature_log_prob_[1, :]\n",
    "\n",
    "log_ratio = np.log(p_risk / p_no_risk)\n",
    "feature_names = samp_tfidf_vectorizer_2.get_feature_names_out()\n",
    "\n",
    "sorted_indices = np.argsort(log_ratio)[::-1]\n",
    "\n",
    "for i in range(10):\n",
    "    token_index = sorted_indices[i]\n",
    "    token_log_ratio = log_ratio[token_index]\n",
    "    token_name = feature_names[token_index]\n",
    "    print(f\"{i+1}. {token_name} ({token_log_ratio:.2f})\")"
   ]
  },
  {
   "cell_type": "markdown",
   "id": "0bb5db1a",
   "metadata": {},
   "source": [
    "# Entire Data Training and Testing Section"
   ]
  },
  {
   "cell_type": "markdown",
   "id": "3f6b5902",
   "metadata": {},
   "source": [
    "### TF-IDF"
   ]
  },
  {
   "cell_type": "code",
   "execution_count": 19,
   "id": "85648f95",
   "metadata": {},
   "outputs": [],
   "source": [
    "# Unigrams\n",
    "tfidf_vectorizer_1 = TfidfVectorizer(ngram_range=(1,1))\n",
    "tfidf_matrix_1 = tfidf_vectorizer_1.fit_transform(data['body'].values.astype('U'))\n",
    "\n",
    "# Bigrams\n",
    "tfidf_vectorizer_2 = TfidfVectorizer(ngram_range=(1,2))\n",
    "tfidf_matrix_2 = tfidf_vectorizer_2.fit_transform(data['body'].values.astype('U'))"
   ]
  },
  {
   "cell_type": "markdown",
   "id": "e342ad66",
   "metadata": {},
   "source": [
    "## Stratified K Folds"
   ]
  },
  {
   "cell_type": "markdown",
   "id": "d022b608",
   "metadata": {},
   "source": [
    "## Unigrams "
   ]
  },
  {
   "cell_type": "code",
   "execution_count": 25,
   "id": "4fd5c9b7",
   "metadata": {},
   "outputs": [],
   "source": [
    "LogisticRegression_L1_c_1=LogisticRegression(penalty='l1', C = 1, solver='saga', max_iter=1000)\n",
    "svm_05 = LinearSVC(C=0.5, dual=False) #n_samples > n_features\n",
    "naive_bayes_01 = MultinomialNB(alpha=0.1)"
   ]
  },
  {
   "cell_type": "code",
   "execution_count": 61,
   "id": "8004c492",
   "metadata": {},
   "outputs": [],
   "source": [
    "df_scores = pd.DataFrame(index=['Precision', 'Recall', 'F1 Score'])"
   ]
  },
  {
   "cell_type": "code",
   "execution_count": 62,
   "id": "264325e9",
   "metadata": {},
   "outputs": [
    {
     "name": "stdout",
     "output_type": "stream",
     "text": [
      "For Entire Dataset (TFIDF - unigrams)\n",
      "Logistic Regression L1 regularization (C = 1) tfidf vectorized \n",
      "\n",
      "\n",
      "Training\n",
      "Average score of 5 folds : \n",
      "\t Precision: \t 0.937 \n",
      "\t Recall: \t 0.912 \n",
      "\t F-1 Score: \t 0.924 \n",
      "\n",
      "\n",
      "Testing\n",
      "Average score of 5 folds : \n",
      "\t Precision: \t 0.932 \n",
      "\t Recall: \t 0.906 \n",
      "\t F-1 Score: \t 0.919 \n",
      "\n"
     ]
    },
    {
     "data": {
      "image/png": "[encoded data removed]",
      "text/plain": [
       "<Figure size 432x288 with 2 Axes>"
      ]
     },
     "metadata": {
      "needs_background": "light"
     },
     "output_type": "display_data"
    },
    {
     "data": {
      "image/png": "[encoded data removed]",
      "text/plain": [
       "<Figure size 432x288 with 2 Axes>"
      ]
     },
     "metadata": {
      "needs_background": "light"
     },
     "output_type": "display_data"
    }
   ],
   "source": [
    "print('For Entire Dataset (TFIDF - unigrams)')\n",
    "print(\"Logistic Regression L1 regularization (C = 1) tfidf vectorized \\n\")\n",
    "train_score, train_plot, test_score, test_plot = model_performance(5, data, targets, tfidf_vectorizer_1, LogisticRegression_L1_c_1)\n",
    "df_scores['Logistic Regression (L1, C = 1) Training'] = list(train_score)\n",
    "df_scores['Logistic Regression (L1, C = 1)'] = list(test_score)\n",
    "\n",
    "print('\\nTraining')\n",
    "display_score(train_score)\n",
    "train_plot.plot()\n",
    "\n",
    "print('\\nTesting')\n",
    "display_score(test_score)\n",
    "test_plot.plot();"
   ]
  },
  {
   "cell_type": "code",
   "execution_count": 63,
   "id": "967f5fce",
   "metadata": {},
   "outputs": [
    {
     "name": "stdout",
     "output_type": "stream",
     "text": [
      "For Entire Dataset (TFIDF - unigrams)\n",
      "Support Vector Machine (C = 0.5) tfidf vectorized \n",
      "\n",
      "Training\n",
      "Average score of 5 folds : \n",
      "\t Precision: \t 0.944 \n",
      "\t Recall: \t 0.924 \n",
      "\t F-1 Score: \t 0.934 \n",
      "\n",
      "\n",
      "Testing\n",
      "Average score of 5 folds : \n",
      "\t Precision: \t 0.932 \n",
      "\t Recall: \t 0.907 \n",
      "\t F-1 Score: \t 0.919 \n",
      "\n"
     ]
    },
    {
     "data": {
      "image/png": "[encoded data removed]",
      "text/plain": [
       "<Figure size 432x288 with 2 Axes>"
      ]
     },
     "metadata": {
      "needs_background": "light"
     },
     "output_type": "display_data"
    },
    {
     "data": {
      "image/png": "[encoded data removed]",
      "text/plain": [
       "<Figure size 432x288 with 2 Axes>"
      ]
     },
     "metadata": {
      "needs_background": "light"
     },
     "output_type": "display_data"
    }
   ],
   "source": [
    "print('For Entire Dataset (TFIDF - unigrams)')\n",
    "print(\"Support Vector Machine (C = 0.5) tfidf vectorized \")\n",
    "train_score, train_plot, test_score, test_plot = model_performance(5, data, targets, tfidf_vectorizer_1, svm_05)\n",
    "df_scores['Support Vector Machine (C = 0.5) Training'] = list(train_score)\n",
    "df_scores['Support Vector Machine (C = 0.5) Testing'] = list(test_score)\n",
    "\n",
    "print('\\nTraining')\n",
    "display_score(train_score)\n",
    "train_plot.plot()\n",
    "\n",
    "print('\\nTesting')\n",
    "display_score(test_score)\n",
    "test_plot.plot();"
   ]
  },
  {
   "cell_type": "code",
   "execution_count": 65,
   "id": "71fceb1f",
   "metadata": {},
   "outputs": [
    {
     "name": "stdout",
     "output_type": "stream",
     "text": [
      "For Entire Dataset (TFIDF - unigrams)\n",
      "Naive Bayes (alpha = 0.1) tfidf vectorized \n",
      "\n",
      "Training\n",
      "Average score of 5 folds : \n",
      "\t Precision: \t 0.848 \n",
      "\t Recall: \t 0.940 \n",
      "\t F-1 Score: \t 0.892 \n",
      "\n",
      "\n",
      "Testing\n",
      "Average score of 5 folds : \n",
      "\t Precision: \t 0.836 \n",
      "\t Recall: \t 0.936 \n",
      "\t F-1 Score: \t 0.883 \n",
      "\n"
     ]
    },
    {
     "data": {
      "image/png": "[encoded data removed]",
      "text/plain": [
       "<Figure size 432x288 with 2 Axes>"
      ]
     },
     "metadata": {
      "needs_background": "light"
     },
     "output_type": "display_data"
    },
    {
     "data": {
      "image/png": "[encoded data removed]",
      "text/plain": [
       "<Figure size 432x288 with 2 Axes>"
      ]
     },
     "metadata": {
      "needs_background": "light"
     },
     "output_type": "display_data"
    }
   ],
   "source": [
    "print('For Entire Dataset (TFIDF - unigrams)')\n",
    "print(\"Naive Bayes (alpha = 0.1) tfidf vectorized \")\n",
    "train_score, train_plot, test_score, test_plot = model_performance(5, data, targets, tfidf_vectorizer_1, naive_bayes_01)\n",
    "df_scores['Naive Bayes (alpha = 0.1) Training'] = list(train_score)\n",
    "df_scores['Naive Bayes (alpha = 0.1) Testing'] = list(test_score)\n",
    "\n",
    "print('\\nTraining')\n",
    "display_score(train_score)\n",
    "train_plot.plot()\n",
    "\n",
    "print('\\nTesting')\n",
    "display_score(test_score)\n",
    "test_plot.plot();"
   ]
  },
  {
   "cell_type": "code",
   "execution_count": 66,
   "id": "01679212",
   "metadata": {
    "scrolled": true
   },
   "outputs": [
    {
     "data": {
      "text/html": [
       "<div>\n",
       "<style scoped>\n",
       "    .dataframe tbody tr th:only-of-type {\n",
       "        vertical-align: middle;\n",
       "    }\n",
       "\n",
       "    .dataframe tbody tr th {\n",
       "        vertical-align: top;\n",
       "    }\n",
       "\n",
       "    .dataframe thead th {\n",
       "        text-align: right;\n",
       "    }\n",
       "</style>\n",
       "<table border=\"1\" class=\"dataframe\">\n",
       "  <thead>\n",
       "    <tr style=\"text-align: right;\">\n",
       "      <th></th>\n",
       "      <th>Logistic Regression (L1, C = 1) Training</th>\n",
       "      <th>Logistic Regression (L1, C = 1)</th>\n",
       "      <th>Support Vector Machine (C = 0.5) Training</th>\n",
       "      <th>Support Vector Machine (C = 0.5) Testing</th>\n",
       "      <th>Naive Bayes (alpha = 0.1) Training</th>\n",
       "      <th>Naive Bayes (alpha = 0.1) Testing</th>\n",
       "    </tr>\n",
       "  </thead>\n",
       "  <tbody>\n",
       "    <tr>\n",
       "      <th>Precision</th>\n",
       "      <td>0.936880</td>\n",
       "      <td>0.931541</td>\n",
       "      <td>0.943770</td>\n",
       "      <td>0.931763</td>\n",
       "      <td>0.847613</td>\n",
       "      <td>0.836005</td>\n",
       "    </tr>\n",
       "    <tr>\n",
       "      <th>Recall</th>\n",
       "      <td>0.912125</td>\n",
       "      <td>0.905883</td>\n",
       "      <td>0.923524</td>\n",
       "      <td>0.906797</td>\n",
       "      <td>0.940424</td>\n",
       "      <td>0.935529</td>\n",
       "    </tr>\n",
       "    <tr>\n",
       "      <th>F1 Score</th>\n",
       "      <td>0.924337</td>\n",
       "      <td>0.918533</td>\n",
       "      <td>0.933538</td>\n",
       "      <td>0.919110</td>\n",
       "      <td>0.891606</td>\n",
       "      <td>0.882969</td>\n",
       "    </tr>\n",
       "  </tbody>\n",
       "</table>\n",
       "</div>"
      ],
      "text/plain": [
       "           Logistic Regression (L1, C = 1) Training  \\\n",
       "Precision                                  0.936880   \n",
       "Recall                                     0.912125   \n",
       "F1 Score                                   0.924337   \n",
       "\n",
       "           Logistic Regression (L1, C = 1)  \\\n",
       "Precision                         0.931541   \n",
       "Recall                            0.905883   \n",
       "F1 Score                          0.918533   \n",
       "\n",
       "           Support Vector Machine (C = 0.5) Training  \\\n",
       "Precision                                   0.943770   \n",
       "Recall                                      0.923524   \n",
       "F1 Score                                    0.933538   \n",
       "\n",
       "           Support Vector Machine (C = 0.5) Testing  \\\n",
       "Precision                                  0.931763   \n",
       "Recall                                     0.906797   \n",
       "F1 Score                                   0.919110   \n",
       "\n",
       "           Naive Bayes (alpha = 0.1) Training  \\\n",
       "Precision                            0.847613   \n",
       "Recall                               0.940424   \n",
       "F1 Score                             0.891606   \n",
       "\n",
       "           Naive Bayes (alpha = 0.1) Testing  \n",
       "Precision                           0.836005  \n",
       "Recall                              0.935529  \n",
       "F1 Score                            0.882969  "
      ]
     },
     "execution_count": 66,
     "metadata": {},
     "output_type": "execute_result"
    }
   ],
   "source": [
    "df_scores"
   ]
  },
  {
   "cell_type": "markdown",
   "id": "a72e1024",
   "metadata": {},
   "source": [
    "### Tokens"
   ]
  },
  {
   "cell_type": "code",
   "execution_count": 67,
   "id": "1bbd4903",
   "metadata": {},
   "outputs": [
    {
     "name": "stdout",
     "output_type": "stream",
     "text": [
      "1. euthanasia (0.40)\n",
      "2. suicide (0.40)\n",
      "3. retarded (0.37)\n",
      "4. suicidal (0.37)\n",
      "5. aspirin (0.36)\n",
      "6. inpatient (0.36)\n",
      "7. devastate (0.35)\n",
      "8. overdose (0.34)\n",
      "9. burden (0.34)\n",
      "10. ideation (0.34)\n"
     ]
    }
   ],
   "source": [
    "# get the probabilities of each token given that the email is spam and ham\n",
    "p_risk = naive_bayes_01.feature_log_prob_[0, :]\n",
    "p_no_risk = naive_bayes_01.feature_log_prob_[1, :]\n",
    "\n",
    "# calculate the log-ratio of the probabilities for each token\n",
    "log_ratio = np.log(p_risk / p_no_risk)\n",
    "\n",
    "# get the feature names from the TF-IDF vectorizer\n",
    "feature_names = tfidf_vectorizer_1.get_feature_names_out()\n",
    "\n",
    "# sort the tokens based on the log-ratio in descending order\n",
    "sorted_indices = np.argsort(log_ratio)[::-1]\n",
    "\n",
    "# print the 10 most indicative tokens for the spam class\n",
    "for i in range(10):\n",
    "    token_index = sorted_indices[i]\n",
    "    token_log_ratio = log_ratio[token_index]\n",
    "    token_name = feature_names[token_index]\n",
    "    print(f\"{i+1}. {token_name} ({token_log_ratio:.2f})\")"
   ]
  },
  {
   "cell_type": "markdown",
   "id": "a2078d10",
   "metadata": {},
   "source": [
    "## Bigrams "
   ]
  },
  {
   "cell_type": "code",
   "execution_count": 11,
   "id": "8913fa0c",
   "metadata": {},
   "outputs": [],
   "source": [
    "LogisticRegression_L1_c_5=LogisticRegression(penalty='l1', C = 5, solver='saga', max_iter=1000)\n",
    "svm_1 = LinearSVC(C=1, dual=True) #n_samples < n_features\n",
    "naive_bayes_001 = MultinomialNB(alpha=0.01)"
   ]
  },
  {
   "cell_type": "code",
   "execution_count": 12,
   "id": "454f8e7b",
   "metadata": {},
   "outputs": [],
   "source": [
    "df_scores = pd.DataFrame(index=['Precision', 'Recall', 'F1 Score'])"
   ]
  },
  {
   "cell_type": "code",
   "execution_count": 13,
   "id": "e4505b2e",
   "metadata": {},
   "outputs": [
    {
     "name": "stdout",
     "output_type": "stream",
     "text": [
      "For Entire Dataset (TFIDF - bigrams)\n",
      "Logistic Regression L1 regularization (C = 5) tfidf vectorized \n",
      "\n"
     ]
    },
    {
     "ename": "NameError",
     "evalue": "name 'model_performance' is not defined",
     "output_type": "error",
     "traceback": [
      "\u001b[0;31m---------------------------------------------------------------------------\u001b[0m",
      "\u001b[0;31mNameError\u001b[0m                                 Traceback (most recent call last)",
      "Input \u001b[0;32mIn [13]\u001b[0m, in \u001b[0;36m<cell line: 3>\u001b[0;34m()\u001b[0m\n\u001b[1;32m      1\u001b[0m \u001b[38;5;28mprint\u001b[39m(\u001b[38;5;124m'\u001b[39m\u001b[38;5;124mFor Entire Dataset (TFIDF - bigrams)\u001b[39m\u001b[38;5;124m'\u001b[39m)\n\u001b[1;32m      2\u001b[0m \u001b[38;5;28mprint\u001b[39m(\u001b[38;5;124m\"\u001b[39m\u001b[38;5;124mLogistic Regression L1 regularization (C = 5) tfidf vectorized \u001b[39m\u001b[38;5;130;01m\\n\u001b[39;00m\u001b[38;5;124m\"\u001b[39m)\n\u001b[0;32m----> 3\u001b[0m train_score, train_plot, test_score, test_plot \u001b[38;5;241m=\u001b[39m \u001b[43mmodel_performance\u001b[49m(\u001b[38;5;241m5\u001b[39m, data, targets, tfidf_vectorizer_2, LogisticRegression_L1_c_5)\n\u001b[1;32m      4\u001b[0m df_scores[\u001b[38;5;124m'\u001b[39m\u001b[38;5;124mLogistic Regression (L1, C = 5) Training\u001b[39m\u001b[38;5;124m'\u001b[39m] \u001b[38;5;241m=\u001b[39m \u001b[38;5;28mlist\u001b[39m(train_score)\n\u001b[1;32m      5\u001b[0m df_scores[\u001b[38;5;124m'\u001b[39m\u001b[38;5;124mLogistic Regression (L1, C = 5)\u001b[39m\u001b[38;5;124m'\u001b[39m] \u001b[38;5;241m=\u001b[39m \u001b[38;5;28mlist\u001b[39m(test_score)\n",
      "\u001b[0;31mNameError\u001b[0m: name 'model_performance' is not defined"
     ]
    }
   ],
   "source": [
    "print('For Entire Dataset (TFIDF - bigrams)')\n",
    "print(\"Logistic Regression L1 regularization (C = 5) tfidf vectorized \\n\")\n",
    "train_score, train_plot, test_score, test_plot = model_performance(5, data, targets, tfidf_vectorizer_2, LogisticRegression_L1_c_5)\n",
    "df_scores['Logistic Regression (L1, C = 5) Training'] = list(train_score)\n",
    "df_scores['Logistic Regression (L1, C = 5)'] = list(test_score)\n",
    "\n",
    "print('\\nTraining')\n",
    "display_score(train_score)\n",
    "train_plot.plot()\n",
    "\n",
    "print('\\nTesting')\n",
    "display_score(test_score)\n",
    "test_plot.plot();"
   ]
  },
  {
   "cell_type": "code",
   "execution_count": 20,
   "id": "b1c886ff",
   "metadata": {},
   "outputs": [
    {
     "name": "stdout",
     "output_type": "stream",
     "text": [
      "For Entire Dataset (TFIDF - bigrams)\n",
      "Support Vector Machine (C = 1) tfidf vectorized \n",
      "\n",
      "Training\n",
      "Average score of 5 folds : \n",
      "\t Precision: \t 0.994 \n",
      "\t Recall: \t 0.993 \n",
      "\t F-1 Score: \t 0.993 \n",
      "\n",
      "\n",
      "Testing\n",
      "Average score of 5 folds : \n",
      "\t Precision: \t 0.928 \n",
      "\t Recall: \t 0.919 \n",
      "\t F-1 Score: \t 0.923 \n",
      "\n"
     ]
    },
    {
     "data": {
      "image/png": "[encoded data removed]",
      "text/plain": [
       "<Figure size 432x288 with 2 Axes>"
      ]
     },
     "metadata": {
      "needs_background": "light"
     },
     "output_type": "display_data"
    },
    {
     "data": {
      "image/png": "[encoded data removed]",
      "text/plain": [
       "<Figure size 432x288 with 2 Axes>"
      ]
     },
     "metadata": {
      "needs_background": "light"
     },
     "output_type": "display_data"
    }
   ],
   "source": [
    "print('For Entire Dataset (TFIDF - bigrams)')\n",
    "print(\"Support Vector Machine (C = 1) tfidf vectorized \")\n",
    "train_score, train_plot, test_score, test_plot = model_performance(5, data, targets, tfidf_vectorizer_2, svm_1)\n",
    "df_scores['Support Vector Machine (C = 1) Training'] = list(train_score)\n",
    "df_scores['Support Vector Machine (C = 1) Testing'] = list(test_score)\n",
    "\n",
    "print('\\nTraining')\n",
    "display_score(train_score)\n",
    "train_plot.plot()\n",
    "\n",
    "print('\\nTesting')\n",
    "display_score(test_score)\n",
    "test_plot.plot();"
   ]
  },
  {
   "cell_type": "code",
   "execution_count": 20,
   "id": "443e439e",
   "metadata": {},
   "outputs": [
    {
     "name": "stdout",
     "output_type": "stream",
     "text": [
      "For Entire Dataset (TFIDF - bigrams)\n",
      "Naive Bayes (alpha = 0.01) tfidf vectorized \n",
      "\n",
      "Training\n",
      "Average score of 5 folds : \n",
      "\t Precision: \t 0.968 \n",
      "\t Recall: \t 0.991 \n",
      "\t F-1 Score: \t 0.979 \n",
      "\n",
      "\n",
      "Testing\n",
      "Average score of 5 folds : \n",
      "\t Precision: \t 0.793 \n",
      "\t Recall: \t 0.968 \n",
      "\t F-1 Score: \t 0.872 \n",
      "\n"
     ]
    },
    {
     "data": {
      "image/png": "[encoded data removed]",
      "text/plain": [
       "<Figure size 432x288 with 2 Axes>"
      ]
     },
     "metadata": {
      "needs_background": "light"
     },
     "output_type": "display_data"
    },
    {
     "data": {
      "image/png": "[encoded data removed]",
      "text/plain": [
       "<Figure size 432x288 with 2 Axes>"
      ]
     },
     "metadata": {
      "needs_background": "light"
     },
     "output_type": "display_data"
    }
   ],
   "source": [
    "print('For Entire Dataset (TFIDF - bigrams)')\n",
    "print(\"Naive Bayes (alpha = 0.01) tfidf vectorized \")\n",
    "train_score, train_plot, test_score, test_plot = model_performance(5, data, targets, tfidf_vectorizer_2, naive_bayes_001)\n",
    "df_scores['Naive Bayes (alpha = 0.01) Training'] = list(train_score)\n",
    "df_scores['Naive Bayes (alpha = 0.01) Testing'] = list(test_score)\n",
    "\n",
    "print('\\nTraining')\n",
    "display_score(train_score)\n",
    "train_plot.plot()\n",
    "\n",
    "print('\\nTesting')\n",
    "display_score(test_score)\n",
    "test_plot.plot();"
   ]
  },
  {
   "cell_type": "code",
   "execution_count": null,
   "id": "3bfcd204",
   "metadata": {
    "scrolled": true
   },
   "outputs": [],
   "source": [
    "df_scores"
   ]
  },
  {
   "cell_type": "markdown",
   "id": "2003049c",
   "metadata": {},
   "source": [
    "### Tokens"
   ]
  },
  {
   "cell_type": "code",
   "execution_count": 21,
   "id": "49578c4d",
   "metadata": {},
   "outputs": [
    {
     "name": "stdout",
     "output_type": "stream",
     "text": [
      "1. tried therapy (0.51)\n",
      "2. suicide think (0.50)\n",
      "3. chronic pain (0.50)\n",
      "4. wrote suicide (0.49)\n",
      "5. point alive (0.49)\n",
      "6. hold job (0.49)\n",
      "7. end everything (0.49)\n",
      "8. job feel (0.47)\n",
      "9. suicidal time (0.47)\n",
      "10. decent job (0.46)\n"
     ]
    }
   ],
   "source": [
    "# get the probabilities of each token given that the email is spam and ham\n",
    "p_risk = naive_bayes_001.feature_log_prob_[0, :]\n",
    "p_no_risk = naive_bayes_001.feature_log_prob_[1, :]\n",
    "\n",
    "# calculate the log-ratio of the probabilities for each token\n",
    "log_ratio = np.log(p_risk / p_no_risk)\n",
    "\n",
    "# get the feature names from the TF-IDF vectorizer\n",
    "feature_names = tfidf_vectorizer_2.get_feature_names_out()\n",
    "\n",
    "# sort the tokens based on the log-ratio in descending order\n",
    "sorted_indices = np.argsort(log_ratio)[::-1]\n",
    "\n",
    "# print the 10 most indicative tokens for the spam class\n",
    "for i in range(10):\n",
    "    token_index = sorted_indices[i]\n",
    "    token_log_ratio = log_ratio[token_index]\n",
    "    token_name = feature_names[token_index]\n",
    "    print(f\"{i+1}. {token_name} ({token_log_ratio:.2f})\")"
   ]
  },
  {
   "cell_type": "markdown",
   "id": "e46bb9e9",
   "metadata": {},
   "source": [
    "## Ensemble Learning"
   ]
  },
  {
   "cell_type": "code",
   "execution_count": 22,
   "id": "ba7a05d2",
   "metadata": {},
   "outputs": [],
   "source": [
    "from sklearn.ensemble import VotingClassifier"
   ]
  },
  {
   "cell_type": "code",
   "execution_count": 23,
   "id": "c42a83f9",
   "metadata": {},
   "outputs": [],
   "source": [
    "X_train, X_test, y_train, y_test = train_test_split(tfidf_matrix_1, targets, test_size=0.2, random_state=22)"
   ]
  },
  {
   "cell_type": "code",
   "execution_count": 26,
   "id": "fcedb895",
   "metadata": {},
   "outputs": [],
   "source": [
    "classifier_1 = LogisticRegression_L1_c_1\n",
    "classifier_2 = svm_05\n",
    "classifier_3 = naive_bayes_01\n",
    "\n",
    "ensemble = VotingClassifier(estimators=[('Logistic Regression', classifier_1), ('SVM', classifier_2), ('Naïve Bayes', classifier_3)])"
   ]
  },
  {
   "cell_type": "code",
   "execution_count": 27,
   "id": "589f0cf3",
   "metadata": {},
   "outputs": [
    {
     "name": "stdout",
     "output_type": "stream",
     "text": [
      "Accuracy: 0.919(+/- 0.002)[Logistic Regression (C = 1)]\n",
      "Accuracy: 0.919(+/- 0.002)[Support Vector Machines (C = 0.5)]\n",
      "Accuracy: 0.877(+/- 0.002)[Naïve Bayes (alpha = 0.1)]\n",
      "Accuracy: 0.920(+/- 0.002)[Ensemble (Hard Voting)]\n"
     ]
    }
   ],
   "source": [
    "names = ['Logistic Regression (C = 1)', 'Support Vector Machines (C = 0.5)', 'Naïve Bayes (alpha = 0.1)', 'Ensemble (Hard Voting)']\n",
    "classifiers = [classifier_1, classifier_2, classifier_3, ensemble]\n",
    "\n",
    "for clf, name in zip(classifiers, names):\n",
    "    train_scores = cross_val_score(clf, X_train, y_train, cv=5)\n",
    "    test_scores = cross_val_score(clf, X_test, y_test, cv=5)\n",
    "    print(f'Accuracy: {train_scores.mean():.3f}(+/- {train_scores.std():.3f})[{name}]')\n",
    "    print(f'Accuracy: {test_scores.mean():.3f}(+/- {test_scores.std():.3f})[{name}]')"
   ]
  }
 ],
 "metadata": {
  "kernelspec": {
   "display_name": "Python 3 (ipykernel)",
   "language": "python",
   "name": "python3"
  },
  "language_info": {
   "codemirror_mode": {
    "name": "ipython",
    "version": 3
   },
   "file_extension": ".py",
   "mimetype": "text/x-python",
   "name": "python",
   "nbconvert_exporter": "python",
   "pygments_lexer": "ipython3",
   "version": "3.9.12"
  }
 },
 "nbformat": 4,
 "nbformat_minor": 5
}
